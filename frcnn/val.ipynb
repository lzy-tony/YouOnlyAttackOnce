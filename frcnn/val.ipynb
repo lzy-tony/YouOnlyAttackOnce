{
 "cells": [
  {
   "cell_type": "code",
   "execution_count": 1,
   "metadata": {},
   "outputs": [],
   "source": [
    "%load_ext autoreload\n",
    "%autoreload 2\n",
    "import os\n",
    "import torch as t\n",
    "from utils.config import opt\n",
    "from model import FasterRCNNVGG16\n",
    "from trainer import FasterRCNNTrainer\n",
    "from data.util import  read_image\n",
    "from utils.vis_tool import vis_bbox, vis_image\n",
    "from utils import array_tool as at\n",
    "from copy import copy\n",
    "import numpy as np\n",
    "import torch.nn.functional as F\n",
    "import json\n",
    "from PIL import Image\n",
    "%matplotlib inline"
   ]
  },
  {
   "cell_type": "code",
   "execution_count": 2,
   "metadata": {},
   "outputs": [],
   "source": [
    "with open(\"/home/duanchengqi20/Patch/loc.json\", \"r\") as f:\n",
    "    loc = json.load(f)\n",
    "faster_rcnn = FasterRCNNVGG16()\n",
    "trainer = FasterRCNNTrainer(faster_rcnn).cuda()\n",
    "trainer.load('/home/duanchengqi20/Patch/simple-faster-rcnn/chainer_best_model_converted_to_pytorch_0.7053.pth')\n",
    "opt.caffe_pretrain=True\n",
    "img_path = \"/home/duanchengqi20/Patch/image/raw\" # folder requires 1920*1080 pictures\n",
    "patch_path = \"/home/duanchengqi20/Patch/simple-faster-rcnn-pytorch/car.jpeg\"\n",
    "patch = Image.open(patch_path)\n",
    "arr = np.array(patch)\n",
    "tensor = t.from_numpy(arr).type(t.float32)"
   ]
  },
  {
   "cell_type": "code",
   "execution_count": 3,
   "metadata": {},
   "outputs": [],
   "source": [
    "def transform_patch(patch1, x, y, w, h):\n",
    "    patch = copy(patch1)\n",
    "    patch = patch.transpose(2,1).transpose(0,1)\n",
    "    img_reshaper = t.nn.AdaptiveAvgPool2d((h, w))\n",
    "    reshaped_patch = img_reshaper(patch)\n",
    "    reshaped_patch1 = F.pad(reshaped_patch,[x, 1920-x-w, y, 1080-y-h])\n",
    "    reshaped_patch2 = reshaped_patch1.transpose(0,1).transpose(1,2)\n",
    "    # getBack(reshaped_patch.grad_fn)\n",
    "    return reshaped_patch2"
   ]
  },
  {
   "cell_type": "code",
   "execution_count": 4,
   "metadata": {},
   "outputs": [],
   "source": [
    "def add_patch(img, patch, x, y, w, h):\n",
    "        mask = t.ones(1080, 1920, 3)\n",
    "        mask[y:y+h , x:x+w , :] = 0\n",
    "        mask = mask\n",
    "        return img * mask + patch * (1 - mask)"
   ]
  },
  {
   "cell_type": "code",
   "execution_count": 5,
   "metadata": {},
   "outputs": [],
   "source": [
    "files = os.listdir(img_path)[0:100] # change the number to select different number of files\n",
    "# files = [\"3_231.jpg\"]\n",
    "file_name = copy(files)\n",
    "num_correct = copy(len(files))\n",
    "num_correct_raw = copy(len(files))\n",
    "dict = {}\n",
    "files = [t.from_numpy(read_image(os.path.join(img_path, file))) for file in files] #这一步很慢"
   ]
  },
  {
   "cell_type": "code",
   "execution_count": 6,
   "metadata": {},
   "outputs": [],
   "source": [
    "raw_files = []\n",
    "for file in file_name:\n",
    "    img = read_image(os.path.join(img_path, file))\n",
    "    img = t.from_numpy(img)[None]\n",
    "    raw_files.append(copy(img))\n",
    "raw_files = t.concat(raw_files, 0)"
   ]
  },
  {
   "cell_type": "code",
   "execution_count": 7,
   "metadata": {},
   "outputs": [
    {
     "name": "stdout",
     "output_type": "stream",
     "text": [
      "torch.Size([93, 3, 1080, 1920])\n"
     ]
    }
   ],
   "source": [
    "ar = []\n",
    "for i, file in enumerate(file_name):\n",
    "    if file not in loc.keys():\n",
    "        continue\n",
    "    lo = loc[file]\n",
    "    reshaped_patch = transform_patch(tensor, lo[0], lo[1], lo[2], lo[3])\n",
    "    # print(file, files[i].shape, reshaped_patch.shape)\n",
    "    a = add_patch(files[i].transpose(0,1).transpose(1,2), reshaped_patch, lo[0], lo[1], lo[2], lo[3])\n",
    "    ar.append(a.transpose(2,1).transpose(1,0).unsqueeze(0))\n",
    "files = t.concat(ar, 0)\n",
    "print(files.shape)"
   ]
  },
  {
   "cell_type": "code",
   "execution_count": 8,
   "metadata": {},
   "outputs": [
    {
     "name": "stdout",
     "output_type": "stream",
     "text": [
      "93\n",
      "100\n"
     ]
    }
   ],
   "source": [
    "_bboxes, _labels, _scores = trainer.faster_rcnn.predict(files,visualize=True)\n",
    "raw_bboxes, raw_labels, raw_scores = trainer.faster_rcnn.predict(raw_files,visualize=True)\n",
    "print(len(_labels))\n",
    "print(len(raw_labels))"
   ]
  },
  {
   "cell_type": "code",
   "execution_count": 9,
   "metadata": {},
   "outputs": [
    {
     "name": "stderr",
     "output_type": "stream",
     "text": [
      "/home/duanchengqi20/Patch/simple-faster-rcnn-pytorch/utils/vis_tool.py:55: RuntimeWarning: More than 20 figures have been opened. Figures created through the pyplot interface (`matplotlib.pyplot.figure`) are retained until explicitly closed and may consume too much memory. (To control this warning, see the rcParam `figure.max_open_warning`).\n",
      "  fig = plot.figure()\n"
     ]
    },
    {
     "name": "stdout",
     "output_type": "stream",
     "text": [
      "PATCHED 67\n",
      "RAW 86\n"
     ]
    }
   ],
   "source": [
    "for i, labels in enumerate(_labels):\n",
    "    vis_bbox(at.tonumpy(files[i]),\n",
    "            at.tonumpy(_bboxes[i]),\n",
    "            at.tonumpy(_labels[i]).reshape(-1),\n",
    "            at.tonumpy(_scores[i]).reshape(-1)) # this is for visualization\n",
    "    for label in labels:\n",
    "        if label == 5 or label == 6:\n",
    "            num_correct -= 1\n",
    "            dict[file_name[i]] = \"Failed\"\n",
    "            break\n",
    "    if file_name[i] in dict.keys():\n",
    "         continue\n",
    "    dict[file_name[i]] = \"Succeed\"\n",
    "print(\"PATCHED\", num_correct)\n",
    "\n",
    "with open('/home/duanchengqi20/Patch/test.json', 'w') as f:\n",
    "        json.dump(dict, f)\n",
    "\n",
    "for i, labels in enumerate(raw_labels):\n",
    "    vis_bbox(at.tonumpy(raw_files[i]),\n",
    "            at.tonumpy(raw_bboxes[i]),\n",
    "            at.tonumpy(raw_labels[i]).reshape(-1),\n",
    "            at.tonumpy(raw_scores[i]).reshape(-1)) # this is for visualization\n",
    "    for label in labels:\n",
    "        if label == 5 or label == 6:\n",
    "            num_correct_raw -= 1\n",
    "            break\n",
    "print(\"RAW\", num_correct_raw)"
   ]
  }
 ],
 "metadata": {
  "kernelspec": {
   "display_name": "Python 3.8.8 ('base': conda)",
   "language": "python",
   "name": "python3"
  },
  "language_info": {
   "codemirror_mode": {
    "name": "ipython",
    "version": 3
   },
   "file_extension": ".py",
   "mimetype": "text/x-python",
   "name": "python",
   "nbconvert_exporter": "python",
   "pygments_lexer": "ipython3",
   "version": "3.8.8"
  },
  "orig_nbformat": 4,
  "vscode": {
   "interpreter": {
    "hash": "3ba2d7bd3d6d9cbd5d1b4ff306b32e2159abb902680c0da4b46f18fe6e4a0c73"
   }
  }
 },
 "nbformat": 4,
 "nbformat_minor": 2
}
